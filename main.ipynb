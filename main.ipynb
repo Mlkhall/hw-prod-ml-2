{
 "cells": [
  {
   "cell_type": "code",
   "id": "initial_id",
   "metadata": {
    "collapsed": true,
    "ExecuteTime": {
     "end_time": "2024-12-22T19:33:27.734287Z",
     "start_time": "2024-12-22T19:33:27.265892Z"
    }
   },
   "source": [
    "# Импорт библиотек\n",
    "\n",
    "import pandas as pd\n",
    "\n",
    "from scipy.stats import mannwhitneyu\n",
    "from scipy.stats import shapiro\n",
    "from scipy.stats import norm\n",
    "from scipy.stats import t\n",
    "\n",
    "from statsmodels.stats import power\n",
    "from statsmodels.stats.proportion import (\n",
    "    proportion_effectsize,\n",
    "    proportions_ztest,\n",
    "    proportion_confint\n",
    ")\n"
   ],
   "outputs": [],
   "execution_count": 1
  },
  {
   "metadata": {
    "ExecuteTime": {
     "end_time": "2024-12-22T19:33:27.888697Z",
     "start_time": "2024-12-22T19:33:27.735501Z"
    }
   },
   "cell_type": "code",
   "source": [
    "# Загрузка данных\n",
    "\n",
    "df = pd.read_csv(\"data/marketing_AB.csv\")\n",
    "df"
   ],
   "id": "a1a5a2f5b4446079",
   "outputs": [
    {
     "data": {
      "text/plain": [
       "        Unnamed: 0  user id test group  converted  total ads most ads day  \\\n",
       "0                0  1069124         ad      False        130       Monday   \n",
       "1                1  1119715         ad      False         93      Tuesday   \n",
       "2                2  1144181         ad      False         21      Tuesday   \n",
       "3                3  1435133         ad      False        355      Tuesday   \n",
       "4                4  1015700         ad      False        276       Friday   \n",
       "...            ...      ...        ...        ...        ...          ...   \n",
       "588096      588096  1278437         ad      False          1      Tuesday   \n",
       "588097      588097  1327975         ad      False          1      Tuesday   \n",
       "588098      588098  1038442         ad      False          3      Tuesday   \n",
       "588099      588099  1496395         ad      False          1      Tuesday   \n",
       "588100      588100  1237779         ad      False          1      Tuesday   \n",
       "\n",
       "        most ads hour  \n",
       "0                  20  \n",
       "1                  22  \n",
       "2                  18  \n",
       "3                  10  \n",
       "4                  14  \n",
       "...               ...  \n",
       "588096             23  \n",
       "588097             23  \n",
       "588098             23  \n",
       "588099             23  \n",
       "588100             23  \n",
       "\n",
       "[588101 rows x 7 columns]"
      ],
      "text/html": [
       "<div>\n",
       "<style scoped>\n",
       "    .dataframe tbody tr th:only-of-type {\n",
       "        vertical-align: middle;\n",
       "    }\n",
       "\n",
       "    .dataframe tbody tr th {\n",
       "        vertical-align: top;\n",
       "    }\n",
       "\n",
       "    .dataframe thead th {\n",
       "        text-align: right;\n",
       "    }\n",
       "</style>\n",
       "<table border=\"1\" class=\"dataframe\">\n",
       "  <thead>\n",
       "    <tr style=\"text-align: right;\">\n",
       "      <th></th>\n",
       "      <th>Unnamed: 0</th>\n",
       "      <th>user id</th>\n",
       "      <th>test group</th>\n",
       "      <th>converted</th>\n",
       "      <th>total ads</th>\n",
       "      <th>most ads day</th>\n",
       "      <th>most ads hour</th>\n",
       "    </tr>\n",
       "  </thead>\n",
       "  <tbody>\n",
       "    <tr>\n",
       "      <th>0</th>\n",
       "      <td>0</td>\n",
       "      <td>1069124</td>\n",
       "      <td>ad</td>\n",
       "      <td>False</td>\n",
       "      <td>130</td>\n",
       "      <td>Monday</td>\n",
       "      <td>20</td>\n",
       "    </tr>\n",
       "    <tr>\n",
       "      <th>1</th>\n",
       "      <td>1</td>\n",
       "      <td>1119715</td>\n",
       "      <td>ad</td>\n",
       "      <td>False</td>\n",
       "      <td>93</td>\n",
       "      <td>Tuesday</td>\n",
       "      <td>22</td>\n",
       "    </tr>\n",
       "    <tr>\n",
       "      <th>2</th>\n",
       "      <td>2</td>\n",
       "      <td>1144181</td>\n",
       "      <td>ad</td>\n",
       "      <td>False</td>\n",
       "      <td>21</td>\n",
       "      <td>Tuesday</td>\n",
       "      <td>18</td>\n",
       "    </tr>\n",
       "    <tr>\n",
       "      <th>3</th>\n",
       "      <td>3</td>\n",
       "      <td>1435133</td>\n",
       "      <td>ad</td>\n",
       "      <td>False</td>\n",
       "      <td>355</td>\n",
       "      <td>Tuesday</td>\n",
       "      <td>10</td>\n",
       "    </tr>\n",
       "    <tr>\n",
       "      <th>4</th>\n",
       "      <td>4</td>\n",
       "      <td>1015700</td>\n",
       "      <td>ad</td>\n",
       "      <td>False</td>\n",
       "      <td>276</td>\n",
       "      <td>Friday</td>\n",
       "      <td>14</td>\n",
       "    </tr>\n",
       "    <tr>\n",
       "      <th>...</th>\n",
       "      <td>...</td>\n",
       "      <td>...</td>\n",
       "      <td>...</td>\n",
       "      <td>...</td>\n",
       "      <td>...</td>\n",
       "      <td>...</td>\n",
       "      <td>...</td>\n",
       "    </tr>\n",
       "    <tr>\n",
       "      <th>588096</th>\n",
       "      <td>588096</td>\n",
       "      <td>1278437</td>\n",
       "      <td>ad</td>\n",
       "      <td>False</td>\n",
       "      <td>1</td>\n",
       "      <td>Tuesday</td>\n",
       "      <td>23</td>\n",
       "    </tr>\n",
       "    <tr>\n",
       "      <th>588097</th>\n",
       "      <td>588097</td>\n",
       "      <td>1327975</td>\n",
       "      <td>ad</td>\n",
       "      <td>False</td>\n",
       "      <td>1</td>\n",
       "      <td>Tuesday</td>\n",
       "      <td>23</td>\n",
       "    </tr>\n",
       "    <tr>\n",
       "      <th>588098</th>\n",
       "      <td>588098</td>\n",
       "      <td>1038442</td>\n",
       "      <td>ad</td>\n",
       "      <td>False</td>\n",
       "      <td>3</td>\n",
       "      <td>Tuesday</td>\n",
       "      <td>23</td>\n",
       "    </tr>\n",
       "    <tr>\n",
       "      <th>588099</th>\n",
       "      <td>588099</td>\n",
       "      <td>1496395</td>\n",
       "      <td>ad</td>\n",
       "      <td>False</td>\n",
       "      <td>1</td>\n",
       "      <td>Tuesday</td>\n",
       "      <td>23</td>\n",
       "    </tr>\n",
       "    <tr>\n",
       "      <th>588100</th>\n",
       "      <td>588100</td>\n",
       "      <td>1237779</td>\n",
       "      <td>ad</td>\n",
       "      <td>False</td>\n",
       "      <td>1</td>\n",
       "      <td>Tuesday</td>\n",
       "      <td>23</td>\n",
       "    </tr>\n",
       "  </tbody>\n",
       "</table>\n",
       "<p>588101 rows × 7 columns</p>\n",
       "</div>"
      ]
     },
     "execution_count": 2,
     "metadata": {},
     "output_type": "execute_result"
    }
   ],
   "execution_count": 2
  },
  {
   "metadata": {},
   "cell_type": "markdown",
   "source": [
    "### Проанализируйте структуру данных и проведите их предобработку:\n",
    "\n",
    "Исследуйте структуру данных;\n",
    "\n",
    "Преобразуйте столбцы к необходимым типам данных.\n",
    "\n",
    "Проверьте данные на наличие пропусков и избавьтесь от них, если нужно.\n",
    "\n",
    "Проверьте, есть ли пользователи, которые в процессе A/Bтеста попали в обе группы. Если да, исключите пользователей, оказавшихся в обеих группах."
   ],
   "id": "b9b4dd4c16a3ad16"
  },
  {
   "metadata": {
    "ExecuteTime": {
     "end_time": "2024-12-22T19:33:27.893119Z",
     "start_time": "2024-12-22T19:33:27.889396Z"
    }
   },
   "cell_type": "code",
   "source": [
    "# Исследование структуры данных\n",
    "\n",
    "# Посмотреть первые 5 строк данных\n",
    "df.head()"
   ],
   "id": "9a3b9d333a883284",
   "outputs": [
    {
     "data": {
      "text/plain": [
       "   Unnamed: 0  user id test group  converted  total ads most ads day  \\\n",
       "0           0  1069124         ad      False        130       Monday   \n",
       "1           1  1119715         ad      False         93      Tuesday   \n",
       "2           2  1144181         ad      False         21      Tuesday   \n",
       "3           3  1435133         ad      False        355      Tuesday   \n",
       "4           4  1015700         ad      False        276       Friday   \n",
       "\n",
       "   most ads hour  \n",
       "0             20  \n",
       "1             22  \n",
       "2             18  \n",
       "3             10  \n",
       "4             14  "
      ],
      "text/html": [
       "<div>\n",
       "<style scoped>\n",
       "    .dataframe tbody tr th:only-of-type {\n",
       "        vertical-align: middle;\n",
       "    }\n",
       "\n",
       "    .dataframe tbody tr th {\n",
       "        vertical-align: top;\n",
       "    }\n",
       "\n",
       "    .dataframe thead th {\n",
       "        text-align: right;\n",
       "    }\n",
       "</style>\n",
       "<table border=\"1\" class=\"dataframe\">\n",
       "  <thead>\n",
       "    <tr style=\"text-align: right;\">\n",
       "      <th></th>\n",
       "      <th>Unnamed: 0</th>\n",
       "      <th>user id</th>\n",
       "      <th>test group</th>\n",
       "      <th>converted</th>\n",
       "      <th>total ads</th>\n",
       "      <th>most ads day</th>\n",
       "      <th>most ads hour</th>\n",
       "    </tr>\n",
       "  </thead>\n",
       "  <tbody>\n",
       "    <tr>\n",
       "      <th>0</th>\n",
       "      <td>0</td>\n",
       "      <td>1069124</td>\n",
       "      <td>ad</td>\n",
       "      <td>False</td>\n",
       "      <td>130</td>\n",
       "      <td>Monday</td>\n",
       "      <td>20</td>\n",
       "    </tr>\n",
       "    <tr>\n",
       "      <th>1</th>\n",
       "      <td>1</td>\n",
       "      <td>1119715</td>\n",
       "      <td>ad</td>\n",
       "      <td>False</td>\n",
       "      <td>93</td>\n",
       "      <td>Tuesday</td>\n",
       "      <td>22</td>\n",
       "    </tr>\n",
       "    <tr>\n",
       "      <th>2</th>\n",
       "      <td>2</td>\n",
       "      <td>1144181</td>\n",
       "      <td>ad</td>\n",
       "      <td>False</td>\n",
       "      <td>21</td>\n",
       "      <td>Tuesday</td>\n",
       "      <td>18</td>\n",
       "    </tr>\n",
       "    <tr>\n",
       "      <th>3</th>\n",
       "      <td>3</td>\n",
       "      <td>1435133</td>\n",
       "      <td>ad</td>\n",
       "      <td>False</td>\n",
       "      <td>355</td>\n",
       "      <td>Tuesday</td>\n",
       "      <td>10</td>\n",
       "    </tr>\n",
       "    <tr>\n",
       "      <th>4</th>\n",
       "      <td>4</td>\n",
       "      <td>1015700</td>\n",
       "      <td>ad</td>\n",
       "      <td>False</td>\n",
       "      <td>276</td>\n",
       "      <td>Friday</td>\n",
       "      <td>14</td>\n",
       "    </tr>\n",
       "  </tbody>\n",
       "</table>\n",
       "</div>"
      ]
     },
     "execution_count": 3,
     "metadata": {},
     "output_type": "execute_result"
    }
   ],
   "execution_count": 3
  },
  {
   "metadata": {
    "ExecuteTime": {
     "end_time": "2024-12-22T19:33:27.923394Z",
     "start_time": "2024-12-22T19:33:27.894005Z"
    }
   },
   "cell_type": "code",
   "source": [
    "# Посмотреть на структуру данных\n",
    "df.info()"
   ],
   "id": "ee665090e666355",
   "outputs": [
    {
     "name": "stdout",
     "output_type": "stream",
     "text": [
      "<class 'pandas.core.frame.DataFrame'>\n",
      "RangeIndex: 588101 entries, 0 to 588100\n",
      "Data columns (total 7 columns):\n",
      " #   Column         Non-Null Count   Dtype \n",
      "---  ------         --------------   ----- \n",
      " 0   Unnamed: 0     588101 non-null  int64 \n",
      " 1   user id        588101 non-null  int64 \n",
      " 2   test group     588101 non-null  object\n",
      " 3   converted      588101 non-null  bool  \n",
      " 4   total ads      588101 non-null  int64 \n",
      " 5   most ads day   588101 non-null  object\n",
      " 6   most ads hour  588101 non-null  int64 \n",
      "dtypes: bool(1), int64(4), object(2)\n",
      "memory usage: 27.5+ MB\n"
     ]
    }
   ],
   "execution_count": 4
  },
  {
   "metadata": {
    "ExecuteTime": {
     "end_time": "2024-12-22T19:33:27.965694Z",
     "start_time": "2024-12-22T19:33:27.925185Z"
    }
   },
   "cell_type": "code",
   "source": [
    "# Посмотреть статистику по числовым столбцам\n",
    "df.describe()"
   ],
   "id": "85f1189adc8d3df5",
   "outputs": [
    {
     "data": {
      "text/plain": [
       "          Unnamed: 0       user id      total ads  most ads hour\n",
       "count  588101.000000  5.881010e+05  588101.000000  588101.000000\n",
       "mean   294050.000000  1.310692e+06      24.820876      14.469061\n",
       "std    169770.279668  2.022260e+05      43.715181       4.834634\n",
       "min         0.000000  9.000000e+05       1.000000       0.000000\n",
       "25%    147025.000000  1.143190e+06       4.000000      11.000000\n",
       "50%    294050.000000  1.313725e+06      13.000000      14.000000\n",
       "75%    441075.000000  1.484088e+06      27.000000      18.000000\n",
       "max    588100.000000  1.654483e+06    2065.000000      23.000000"
      ],
      "text/html": [
       "<div>\n",
       "<style scoped>\n",
       "    .dataframe tbody tr th:only-of-type {\n",
       "        vertical-align: middle;\n",
       "    }\n",
       "\n",
       "    .dataframe tbody tr th {\n",
       "        vertical-align: top;\n",
       "    }\n",
       "\n",
       "    .dataframe thead th {\n",
       "        text-align: right;\n",
       "    }\n",
       "</style>\n",
       "<table border=\"1\" class=\"dataframe\">\n",
       "  <thead>\n",
       "    <tr style=\"text-align: right;\">\n",
       "      <th></th>\n",
       "      <th>Unnamed: 0</th>\n",
       "      <th>user id</th>\n",
       "      <th>total ads</th>\n",
       "      <th>most ads hour</th>\n",
       "    </tr>\n",
       "  </thead>\n",
       "  <tbody>\n",
       "    <tr>\n",
       "      <th>count</th>\n",
       "      <td>588101.000000</td>\n",
       "      <td>5.881010e+05</td>\n",
       "      <td>588101.000000</td>\n",
       "      <td>588101.000000</td>\n",
       "    </tr>\n",
       "    <tr>\n",
       "      <th>mean</th>\n",
       "      <td>294050.000000</td>\n",
       "      <td>1.310692e+06</td>\n",
       "      <td>24.820876</td>\n",
       "      <td>14.469061</td>\n",
       "    </tr>\n",
       "    <tr>\n",
       "      <th>std</th>\n",
       "      <td>169770.279668</td>\n",
       "      <td>2.022260e+05</td>\n",
       "      <td>43.715181</td>\n",
       "      <td>4.834634</td>\n",
       "    </tr>\n",
       "    <tr>\n",
       "      <th>min</th>\n",
       "      <td>0.000000</td>\n",
       "      <td>9.000000e+05</td>\n",
       "      <td>1.000000</td>\n",
       "      <td>0.000000</td>\n",
       "    </tr>\n",
       "    <tr>\n",
       "      <th>25%</th>\n",
       "      <td>147025.000000</td>\n",
       "      <td>1.143190e+06</td>\n",
       "      <td>4.000000</td>\n",
       "      <td>11.000000</td>\n",
       "    </tr>\n",
       "    <tr>\n",
       "      <th>50%</th>\n",
       "      <td>294050.000000</td>\n",
       "      <td>1.313725e+06</td>\n",
       "      <td>13.000000</td>\n",
       "      <td>14.000000</td>\n",
       "    </tr>\n",
       "    <tr>\n",
       "      <th>75%</th>\n",
       "      <td>441075.000000</td>\n",
       "      <td>1.484088e+06</td>\n",
       "      <td>27.000000</td>\n",
       "      <td>18.000000</td>\n",
       "    </tr>\n",
       "    <tr>\n",
       "      <th>max</th>\n",
       "      <td>588100.000000</td>\n",
       "      <td>1.654483e+06</td>\n",
       "      <td>2065.000000</td>\n",
       "      <td>23.000000</td>\n",
       "    </tr>\n",
       "  </tbody>\n",
       "</table>\n",
       "</div>"
      ]
     },
     "execution_count": 5,
     "metadata": {},
     "output_type": "execute_result"
    }
   ],
   "execution_count": 5
  },
  {
   "metadata": {
    "ExecuteTime": {
     "end_time": "2024-12-22T19:33:28.047479Z",
     "start_time": "2024-12-22T19:33:27.966603Z"
    }
   },
   "cell_type": "code",
   "source": [
    "# Проверить наличие дубликатов\n",
    "df.duplicated().sum()"
   ],
   "id": "ef0c16e8d92f13fb",
   "outputs": [
    {
     "data": {
      "text/plain": [
       "np.int64(0)"
      ]
     },
     "execution_count": 6,
     "metadata": {},
     "output_type": "execute_result"
    }
   ],
   "execution_count": 6
  },
  {
   "metadata": {
    "ExecuteTime": {
     "end_time": "2024-12-22T19:33:28.092942Z",
     "start_time": "2024-12-22T19:33:28.048329Z"
    }
   },
   "cell_type": "code",
   "source": [
    "# Преобразуйте столбцы к необходимым типам данных\n",
    "# Столбцы most ads day и test group преобразуем в категориальные\n",
    "# Преобразовать столбец test group в категориальный тип\n",
    "df[\"test group\"] = df[\"test group\"].astype(\"category\")\n",
    "\n",
    "# Преобразовать столбец most ads day в категориальный тип\n",
    "df[\"most ads day\"] = df[\"most ads day\"].astype(\"category\")\n",
    "\n",
    "# Проверить результат\n",
    "df.info()"
   ],
   "id": "27cc1c18f826ba0a",
   "outputs": [
    {
     "name": "stdout",
     "output_type": "stream",
     "text": [
      "<class 'pandas.core.frame.DataFrame'>\n",
      "RangeIndex: 588101 entries, 0 to 588100\n",
      "Data columns (total 7 columns):\n",
      " #   Column         Non-Null Count   Dtype   \n",
      "---  ------         --------------   -----   \n",
      " 0   Unnamed: 0     588101 non-null  int64   \n",
      " 1   user id        588101 non-null  int64   \n",
      " 2   test group     588101 non-null  category\n",
      " 3   converted      588101 non-null  bool    \n",
      " 4   total ads      588101 non-null  int64   \n",
      " 5   most ads day   588101 non-null  category\n",
      " 6   most ads hour  588101 non-null  int64   \n",
      "dtypes: bool(1), category(2), int64(4)\n",
      "memory usage: 19.6 MB\n"
     ]
    }
   ],
   "execution_count": 7
  },
  {
   "metadata": {
    "ExecuteTime": {
     "end_time": "2024-12-22T19:33:28.098139Z",
     "start_time": "2024-12-22T19:33:28.093594Z"
    }
   },
   "cell_type": "code",
   "source": [
    "# Проверьте данные на наличие пропусков и избавьтесь от них, если нужно\n",
    "\n",
    "# Проверить наличие пропусков\n",
    "df.isnull().sum()"
   ],
   "id": "cf78a0c13ff384e8",
   "outputs": [
    {
     "data": {
      "text/plain": [
       "Unnamed: 0       0\n",
       "user id          0\n",
       "test group       0\n",
       "converted        0\n",
       "total ads        0\n",
       "most ads day     0\n",
       "most ads hour    0\n",
       "dtype: int64"
      ]
     },
     "execution_count": 8,
     "metadata": {},
     "output_type": "execute_result"
    }
   ],
   "execution_count": 8
  },
  {
   "metadata": {},
   "cell_type": "markdown",
   "source": "Вывод: пропуски отсутствуют -> преобразование не требуется",
   "id": "f885ca35c3c73a22"
  },
  {
   "metadata": {
    "ExecuteTime": {
     "end_time": "2024-12-22T19:33:28.202213Z",
     "start_time": "2024-12-22T19:33:28.098857Z"
    }
   },
   "cell_type": "code",
   "source": [
    "# Проверьте, есть ли пользователи, которые в процессе A/Bтеста попали в обе группы.\n",
    "\n",
    "# Посчитать количество пользователей, которые попали в обе группы\n",
    "ad_psa_users = df.groupby(\"user id\")[\"test group\"].nunique()\n",
    "ad_psa_users[ad_psa_users > 1].index"
   ],
   "id": "f1f7ef9ae32ee89b",
   "outputs": [
    {
     "data": {
      "text/plain": [
       "Index([], dtype='int64', name='user id')"
      ]
     },
     "execution_count": 9,
     "metadata": {},
     "output_type": "execute_result"
    }
   ],
   "execution_count": 9
  },
  {
   "metadata": {},
   "cell_type": "markdown",
   "source": "Вывод: нет пользователей, которые в процессе A/Bтеста попали в обе группы",
   "id": "31c0130030bb1522"
  },
  {
   "metadata": {},
   "cell_type": "markdown",
   "source": [
    "### Сделайте первичный анализ результатов A/B-тестирования\n",
    "Рассчитайте вспомогательные показатели для контрольной и тестовой групп:\n",
    "\n",
    "- количество посещений сайта;\n",
    "- суммарное количество совершённых покупок;\n",
    "\n",
    "Сделайте промежуточные выводы по построенной таблице. Сопоставимо ли количество посещений обоих вариантов посадочной страницы? Можно ли говорить о сбалансированности выборок?\n",
    "\n",
    "В каждой из групп рассчитайте ключевые показатели:\n",
    "\n",
    "- конверсия;\n",
    "- среднее количество рекламы, увиденной пользователем.\n",
    "\n",
    "Сделайте первичные выводы о результатах A/B-тестирования на основе показателей конверсии и среднего количества увиденной рекламы в каждой из групп. По какому(-им) показателю(-ям), на первый взгляд, вариант А эффективнее варианта B и наоборот?"
   ],
   "id": "e7b35e5f42fc1cee"
  },
  {
   "metadata": {
    "ExecuteTime": {
     "end_time": "2024-12-22T19:33:28.230586Z",
     "start_time": "2024-12-22T19:33:28.202929Z"
    }
   },
   "cell_type": "code",
   "source": [
    "# Предварительно сгруппируем данные по двум группам - контрольной и тестовой\n",
    "# Сгруппировать данные по группам и посчитать суммарное количество посещений сайта total_visits, суммарное количество совершенных покупок total_purchases и количество уникальных пользователей total_users\n",
    "grouped_data = df.groupby('test group', observed=False).agg(\n",
    "    total_visits=('total ads', 'sum'),  # Суммарное количество посещений сайта (увиденной рекламы)\n",
    "    total_purchases=('converted', 'sum'),  # Суммарное количество покупок (True = 1, False = 0)\n",
    "    total_users=('user id', 'nunique')  # Количество уникальных пользователей\n",
    ")\n",
    "\n",
    "grouped_data"
   ],
   "id": "e182e0292e432a5",
   "outputs": [
    {
     "data": {
      "text/plain": [
       "            total_visits  total_purchases  total_users\n",
       "test group                                            \n",
       "ad              14014701            14423       564577\n",
       "psa               582481              420        23524"
      ],
      "text/html": [
       "<div>\n",
       "<style scoped>\n",
       "    .dataframe tbody tr th:only-of-type {\n",
       "        vertical-align: middle;\n",
       "    }\n",
       "\n",
       "    .dataframe tbody tr th {\n",
       "        vertical-align: top;\n",
       "    }\n",
       "\n",
       "    .dataframe thead th {\n",
       "        text-align: right;\n",
       "    }\n",
       "</style>\n",
       "<table border=\"1\" class=\"dataframe\">\n",
       "  <thead>\n",
       "    <tr style=\"text-align: right;\">\n",
       "      <th></th>\n",
       "      <th>total_visits</th>\n",
       "      <th>total_purchases</th>\n",
       "      <th>total_users</th>\n",
       "    </tr>\n",
       "    <tr>\n",
       "      <th>test group</th>\n",
       "      <th></th>\n",
       "      <th></th>\n",
       "      <th></th>\n",
       "    </tr>\n",
       "  </thead>\n",
       "  <tbody>\n",
       "    <tr>\n",
       "      <th>ad</th>\n",
       "      <td>14014701</td>\n",
       "      <td>14423</td>\n",
       "      <td>564577</td>\n",
       "    </tr>\n",
       "    <tr>\n",
       "      <th>psa</th>\n",
       "      <td>582481</td>\n",
       "      <td>420</td>\n",
       "      <td>23524</td>\n",
       "    </tr>\n",
       "  </tbody>\n",
       "</table>\n",
       "</div>"
      ]
     },
     "execution_count": 10,
     "metadata": {},
     "output_type": "execute_result"
    }
   ],
   "execution_count": 10
  },
  {
   "metadata": {},
   "cell_type": "markdown",
   "source": "Вывод: суммарное количество посещений сайта и количество покупок в группе ad значительно больше, чем в группе psa. Можно сделать вывод, что выборки не сбалансированы. Необходимо дальнейшее исследование",
   "id": "7c75a534fad9dd86"
  },
  {
   "metadata": {
    "ExecuteTime": {
     "end_time": "2024-12-22T19:33:28.236106Z",
     "start_time": "2024-12-22T19:33:28.231367Z"
    }
   },
   "cell_type": "code",
   "source": [
    "# Рассчитать конверсию для каждой из групп\n",
    "\n",
    "grouped_data[\"conversion\"] = ((grouped_data[\"total_purchases\"] * 100) / grouped_data[\"total_users\"]).round(2)\n",
    "\n",
    "# Рассчитать среднее количество рекламы, увиденной пользователем для каждой из групп\n",
    "\n",
    "grouped_data[\"average_ads\"] = (grouped_data[\"total_visits\"] / grouped_data[\"total_users\"])\n",
    "\n",
    "# Вывести результат\n",
    "grouped_data"
   ],
   "id": "f49fce30970df85e",
   "outputs": [
    {
     "data": {
      "text/plain": [
       "            total_visits  total_purchases  total_users  conversion  \\\n",
       "test group                                                           \n",
       "ad              14014701            14423       564577        2.55   \n",
       "psa               582481              420        23524        1.79   \n",
       "\n",
       "            average_ads  \n",
       "test group               \n",
       "ad            24.823365  \n",
       "psa           24.761138  "
      ],
      "text/html": [
       "<div>\n",
       "<style scoped>\n",
       "    .dataframe tbody tr th:only-of-type {\n",
       "        vertical-align: middle;\n",
       "    }\n",
       "\n",
       "    .dataframe tbody tr th {\n",
       "        vertical-align: top;\n",
       "    }\n",
       "\n",
       "    .dataframe thead th {\n",
       "        text-align: right;\n",
       "    }\n",
       "</style>\n",
       "<table border=\"1\" class=\"dataframe\">\n",
       "  <thead>\n",
       "    <tr style=\"text-align: right;\">\n",
       "      <th></th>\n",
       "      <th>total_visits</th>\n",
       "      <th>total_purchases</th>\n",
       "      <th>total_users</th>\n",
       "      <th>conversion</th>\n",
       "      <th>average_ads</th>\n",
       "    </tr>\n",
       "    <tr>\n",
       "      <th>test group</th>\n",
       "      <th></th>\n",
       "      <th></th>\n",
       "      <th></th>\n",
       "      <th></th>\n",
       "      <th></th>\n",
       "    </tr>\n",
       "  </thead>\n",
       "  <tbody>\n",
       "    <tr>\n",
       "      <th>ad</th>\n",
       "      <td>14014701</td>\n",
       "      <td>14423</td>\n",
       "      <td>564577</td>\n",
       "      <td>2.55</td>\n",
       "      <td>24.823365</td>\n",
       "    </tr>\n",
       "    <tr>\n",
       "      <th>psa</th>\n",
       "      <td>582481</td>\n",
       "      <td>420</td>\n",
       "      <td>23524</td>\n",
       "      <td>1.79</td>\n",
       "      <td>24.761138</td>\n",
       "    </tr>\n",
       "  </tbody>\n",
       "</table>\n",
       "</div>"
      ]
     },
     "execution_count": 11,
     "metadata": {},
     "output_type": "execute_result"
    }
   ],
   "execution_count": 11
  },
  {
   "metadata": {},
   "cell_type": "markdown",
   "source": "Вывод: конверсия в группе ad выше, чем в группе psa. Среднее количество рекламы, увиденной пользователем, в группе ad также выше, чем в группе psa. Можно сделать вывод, что группа ad эффективнее группы psa",
   "id": "3b83e3420cd1619b"
  },
  {
   "metadata": {},
   "cell_type": "markdown",
   "source": [
    "### Проведите статистический анализ результатов A/B-тестирования\n",
    "Сформулируйте статистические гипотезы, соответствующие поставленным бизнес-вопросам, и выберите статистический тест для их проверки.\n",
    "\n",
    "Не забудьте проверить данные на нормальность там, где это необходимо.\n",
    "\n",
    "С помощью аппарата статистических тестов определите:\n",
    "\n",
    "- Есть ли статистическая разница между конверсиями в группах А и B?\n",
    "- Есть ли статистическая разница между средними количествами увиденной рекламы в группах А и B?\n",
    "\n",
    "Подкрепите результаты статистических тестов, построив 95 % доверительные интервалы для:\n",
    "\n",
    "- конверсий в каждой из групп;\n",
    "- разницы конверсий в группах;\n",
    "- среднего количества увиденной рекламы в группах А и B.\n",
    "\n",
    "Проинтерпретируйте построенные доверительные интервалы для конверсий и среднего количества увиденной рекламы группах. Есть ли перекрытие между доверительными интервалами для групп? Если есть, то о чём это говорит?"
   ],
   "id": "bc81a3df8eafb273"
  },
  {
   "metadata": {
    "ExecuteTime": {
     "end_time": "2024-12-22T19:33:28.255118Z",
     "start_time": "2024-12-22T19:33:28.236756Z"
    }
   },
   "cell_type": "code",
   "source": [
    "\n",
    "# Посчитаем среднее и медиану для конверсии в группах ad и psa \n",
    "\n",
    "daily_data = df.groupby(['most ads day','test group'], observed=False).agg({\n",
    "    'user id':'count',\n",
    "    'converted':'sum'\n",
    "}).reset_index().rename(columns={'user id': 'users_count'})\n",
    "\n",
    "\n",
    "daily_data['conversion']=((daily_data['converted']*100)/daily_data['users_count']).round(2)\n",
    "\n",
    "daily_data.sort_values(by='most ads day', ascending=True)\n",
    "conversion_piv = daily_data.groupby('test group', observed=False)['conversion'].agg(\n",
    "    ['mean', 'median']\n",
    ")\n",
    "\n",
    "conversion_piv"
   ],
   "id": "d1f0a3ec2e6eb1b9",
   "outputs": [
    {
     "data": {
      "text/plain": [
       "                mean  median\n",
       "test group                  \n",
       "ad          2.557143    2.46\n",
       "psa         1.770000    1.63"
      ],
      "text/html": [
       "<div>\n",
       "<style scoped>\n",
       "    .dataframe tbody tr th:only-of-type {\n",
       "        vertical-align: middle;\n",
       "    }\n",
       "\n",
       "    .dataframe tbody tr th {\n",
       "        vertical-align: top;\n",
       "    }\n",
       "\n",
       "    .dataframe thead th {\n",
       "        text-align: right;\n",
       "    }\n",
       "</style>\n",
       "<table border=\"1\" class=\"dataframe\">\n",
       "  <thead>\n",
       "    <tr style=\"text-align: right;\">\n",
       "      <th></th>\n",
       "      <th>mean</th>\n",
       "      <th>median</th>\n",
       "    </tr>\n",
       "    <tr>\n",
       "      <th>test group</th>\n",
       "      <th></th>\n",
       "      <th></th>\n",
       "    </tr>\n",
       "  </thead>\n",
       "  <tbody>\n",
       "    <tr>\n",
       "      <th>ad</th>\n",
       "      <td>2.557143</td>\n",
       "      <td>2.46</td>\n",
       "    </tr>\n",
       "    <tr>\n",
       "      <th>psa</th>\n",
       "      <td>1.770000</td>\n",
       "      <td>1.63</td>\n",
       "    </tr>\n",
       "  </tbody>\n",
       "</table>\n",
       "</div>"
      ]
     },
     "execution_count": 12,
     "metadata": {},
     "output_type": "execute_result"
    }
   ],
   "execution_count": 12
  },
  {
   "metadata": {
    "ExecuteTime": {
     "end_time": "2024-12-22T19:33:28.284555Z",
     "start_time": "2024-12-22T19:33:28.255841Z"
    }
   },
   "cell_type": "code",
   "source": [
    "\n",
    "# Сформулируем нулевую и альтернативную гипотезы\n",
    "\n",
    "# H0: конверсии в группах ad и psa равны\n",
    "# H1: конверсии в группе ad выше, чем в группе psa\n",
    "\n",
    "# Для проверки гипотезы о равенстве конверсий в группах ad и psa используем Z-тест\n",
    "\n",
    "# Сбалансируем выборки\n",
    "p_control = conversion_piv.loc['psa','mean']/100\n",
    "p_treatment = conversion_piv.loc['ad','mean']/100\n",
    "\n",
    "effect_size = proportion_effectsize(p_control, p_treatment)\n",
    "\n",
    "alpha = 0.05\n",
    "beta = 0.2\n",
    "\n",
    "size_sample = power.NormalIndPower().solve_power(effect_size=effect_size, alpha=alpha, power=1-beta, ratio=1)\n",
    "\n",
    "print(f'Размер выборки: {size_sample:.0f}')\n",
    "\n",
    "# Сформируем выборки\n",
    "control_sample = df[df['test group'] == 'psa'].sample(n=int(size_sample), random_state=0)\n",
    "treatment_sample = df[df['test group'] == 'ad'].sample(n=int(size_sample), random_state=0)\n",
    "\n",
    "# Объединим выборки\n",
    "sample = pd.concat([control_sample, treatment_sample], axis=0)\n",
    "\n",
    "\n",
    "data = sample.groupby(['test group'], observed=False).agg({\n",
    "    'user id':'count',\n",
    "    'converted':'sum',\n",
    "    'total ads':'sum'\n",
    "}).reset_index().rename(columns={'user id': 'users_count'})\n",
    "data['mean_ads']=data['total ads']/data['users_count']\n",
    "data['mean_ads']=data['mean_ads'].round(2)\n",
    "\n",
    "data['conversion']=data['converted']*100/data['users_count']\n",
    "data['conversion']=data['conversion'].round(2)\n",
    "\n",
    "\n",
    "count_conversions_ad=data[data['test group']=='ad']['converted'].sum()\n",
    "count_conversions_psa=data[data['test group']=='psa']['converted'].sum()\n",
    "\n",
    "total_ads_ad=data[data['test group']=='ad']['total ads'].sum()\n",
    "total_ads_psa=data[data['test group']=='psa']['total ads'].sum()\n",
    "\n",
    "total_observations_ad=data[data['test group']=='ad']['users_count'].sum()\n",
    "total_observations_psa=data[data['test group']=='psa']['users_count'].sum()\n",
    "\n",
    "count_purchase = [count_conversions_ad, count_conversions_psa]\n",
    "count_ads=[total_ads_ad, total_ads_psa]  \n",
    "count_observation = [total_observations_ad, total_observations_psa] \n",
    "z_stat, p_value = proportions_ztest(count_purchase, count_observation)\n",
    "\n",
    "print(f'Z-статистика: {z_stat:.2f}')\n",
    "print(f'p-value: {p_value:.4f}')"
   ],
   "id": "5f1638a5ef4f08c5",
   "outputs": [
    {
     "name": "stdout",
     "output_type": "stream",
     "text": [
      "Размер выборки: 5319\n",
      "Z-статистика: 2.69\n",
      "p-value: 0.0071\n"
     ]
    }
   ],
   "execution_count": 13
  },
  {
   "metadata": {},
   "cell_type": "markdown",
   "source": "Вывод: p-value < 0.05, следовательно, нулевая гипотеза отвергается. Можно сделать вывод, что конверсии в группах ad и psa различаются",
   "id": "272c3aef3b6aec06"
  },
  {
   "metadata": {
    "ExecuteTime": {
     "end_time": "2024-12-22T19:33:28.291481Z",
     "start_time": "2024-12-22T19:33:28.287219Z"
    }
   },
   "cell_type": "code",
   "source": [
    "# H0: среднее количество увиденной рекламы в группах ad и psa равны\n",
    "# H1: среднее количество увиденной рекламы в группах ad и psa различается\n",
    "\n",
    "# Для проверки гипотезы о равенстве среднего количества увиденной рекламы в группах ad и psa используем критерий Манна-Уитни\n",
    "\n",
    "# Проверить данные на нормальность\n",
    "\n",
    "alpha = 0.05\n",
    "\n",
    "shapiro_result_a = shapiro(data[data['test group']=='ad']['total ads'])\n",
    "shapiro_result_b = shapiro(data[data['test group']=='psa']['total ads'])\n",
    "\n",
    "print('p-value для группы ad:', shapiro_result_a.pvalue)\n",
    "print('p-value для группы psa:', shapiro_result_b.pvalue)\n",
    "\n",
    "\n",
    "# Проверить гипотезу о равенстве средних с помощью критерия Манна-Уитни\n",
    "\n",
    "alpha = 0.05\n",
    "\n",
    "results = mannwhitneyu(\n",
    "    x=data[data['test group']=='ad']['users_count'].sum(),\n",
    "    y=data[data['test group']=='psa']['users_count'].sum(),\n",
    "    alternative='two-sided'\n",
    ")\n",
    "print('p-value:', round(results.pvalue, 2))\n"
   ],
   "id": "3343b177d978379",
   "outputs": [
    {
     "name": "stdout",
     "output_type": "stream",
     "text": [
      "p-value для группы ad: nan\n",
      "p-value для группы psa: nan\n",
      "p-value: 1.0\n"
     ]
    },
    {
     "name": "stderr",
     "output_type": "stream",
     "text": [
      "/var/folders/v8/yvjcp58143j87hsd8xmzy54w0000gn/T/ipykernel_99584/3432359995.py:10: SmallSampleWarning: One or more sample arguments is too small; all returned values will be NaN. See documentation for sample size requirements.\n",
      "  shapiro_result_a = shapiro(data[data['test group']=='ad']['total ads'])\n",
      "/var/folders/v8/yvjcp58143j87hsd8xmzy54w0000gn/T/ipykernel_99584/3432359995.py:11: SmallSampleWarning: One or more sample arguments is too small; all returned values will be NaN. See documentation for sample size requirements.\n",
      "  shapiro_result_b = shapiro(data[data['test group']=='psa']['total ads'])\n"
     ]
    }
   ],
   "execution_count": 14
  },
  {
   "metadata": {},
   "cell_type": "markdown",
   "source": "Вывод: p-value > 0.05, следовательно, нулевая гипотеза не отвергается. Можно сделать вывод, что среднее количество увиденной рекламы в группах ad и psa равны",
   "id": "8b4af7c372a0a50"
  },
  {
   "metadata": {
    "ExecuteTime": {
     "end_time": "2024-12-22T19:33:28.304790Z",
     "start_time": "2024-12-22T19:33:28.292228Z"
    }
   },
   "cell_type": "code",
   "source": [
    "# Построить 95% доверительные интервалы для конверсий в каждой из групп\n",
    "\n",
    "# Разделим данные на две группы\n",
    "ad = df[df['test group'] == 'ad']\n",
    "psa = df[df['test group'] == 'psa']\n",
    "\n",
    "# Напишем функцию для расчета доверительного интервала для конверсии в группе\n",
    "\n",
    "def get_conf_interval(x, n):\n",
    "    alpha=0.05\n",
    "    z = - norm.ppf(alpha / 2)\n",
    "    eps = z * (x * (1 - x) / n) ** 0.5\n",
    "    lower_ = x - eps \n",
    "    upper_ = x + eps \n",
    "    return lower_, upper_\n",
    "\n",
    "# Рассчитать доверительные интервалы для конверсий в группах ad и psa\n",
    "\n",
    "lower_ad, upper_ad = get_conf_interval(ad['converted'].mean(), ad['user id'].count())\n",
    "lower_psa, upper_psa = get_conf_interval(psa['converted'].mean(), psa['user id'].count())\n",
    "\n",
    "# Вывод результата\n",
    "\n",
    "print(f'Доверительный интервал для ad: [{lower_ad*100:.2f}, {upper_ad*100:.2f}]')\n",
    "print(f'Доверительный интервал для psa: [{lower_psa*100:.2f}, {upper_psa*100:.2f}]')"
   ],
   "id": "2e38b290534e1391",
   "outputs": [
    {
     "name": "stdout",
     "output_type": "stream",
     "text": [
      "Доверительный интервал для ad: [2.51, 2.60]\n",
      "Доверительный интервал для psa: [1.62, 1.95]\n"
     ]
    }
   ],
   "execution_count": 15
  },
  {
   "metadata": {},
   "cell_type": "markdown",
   "source": "Вывод: доверительные интервалы для конверсий в группах ad и psa не пересекаются, конверсия в группах не равна",
   "id": "c29d3a5a23d10ee"
  },
  {
   "metadata": {
    "ExecuteTime": {
     "end_time": "2024-12-22T19:36:24.630297Z",
     "start_time": "2024-12-22T19:36:24.625810Z"
    }
   },
   "cell_type": "code",
   "source": [
    "# Построить 95% доверительные интервалы для разницы конверсий в группах\n",
    "\n",
    "def get_conf_interval_diff(x1, n1, x2, n2):\n",
    "    alpha=0.05\n",
    "    z = - norm.ppf(alpha / 2)\n",
    "    eps = z * ((x1 * (1 - x1) / n1 + x2 * (1 - x2) / n2) ** 0.5)\n",
    "    lower_ = (x2 - x1) - eps\n",
    "    upper_ = (x2 - x1) + eps\n",
    "    return lower_, upper_\n",
    "\n",
    "\n",
    "# Расчет доверительного интервала для разницы конверсий в группах\n",
    "lower_diff, upper_diff = get_conf_interval_diff(\n",
    "    ad['converted'].mean(),\n",
    "    ad['user id'].count(),\n",
    "    psa['converted'].mean(),\n",
    "    psa['user id'].count()\n",
    ")\n",
    "\n",
    "print(f'Доверительный интервал для разницы конверсий в группах: [{lower_diff*100:.2f}, {upper_diff*100:.2f}]')"
   ],
   "id": "f17b620b1be13f69",
   "outputs": [
    {
     "name": "stdout",
     "output_type": "stream",
     "text": [
      "Доверительный интервал для разницы конверсий в группах: [-0.94, -0.60]\n"
     ]
    }
   ],
   "execution_count": 16
  },
  {
   "metadata": {},
   "cell_type": "markdown",
   "source": "Вывод: довертельный интервал для разницы конверсий отрицателен, следовательно, конверсия в группе ad выше, чем в группе psa",
   "id": "6d00e5b63d990a63"
  },
  {
   "metadata": {
    "ExecuteTime": {
     "end_time": "2024-12-22T19:39:57.404890Z",
     "start_time": "2024-12-22T19:39:57.397921Z"
    }
   },
   "cell_type": "code",
   "source": [
    "# Построить 95% доверительные интервалы для среднего количества увиденной рекламы в группах ad и psa\n",
    "\n",
    "def get_conf_interval_mean(x_mean, x_std, n):\n",
    "    alpha=0.05\n",
    "    k = n - 1\n",
    "    t_crit = -t.ppf(alpha/2, k)\n",
    "    eps = t_crit * x_std/(n ** 0.5) \n",
    "    lower_ = x_mean - eps\n",
    "    upper_ = x_mean + eps\n",
    "    return lower_, upper_\n",
    "\n",
    "# Расчет доверительного интервала для среднего количества рекламы, увиденной пользователем в группе ad и в группе psa\n",
    "lower_ad, upper_ad = get_conf_interval_mean(\n",
    "    ad['total ads'].mean(),\n",
    "    ad['total ads'].std(),\n",
    "    ad['user id'].count()\n",
    ")\n",
    "lower_psa, upper_psa = get_conf_interval_mean(\n",
    "    psa['total ads'].mean(),\n",
    "    psa['total ads'].std(),\n",
    "    psa['user id'].count()\n",
    ")\n",
    "\n",
    "print(f'Доверительный интервал для ad: [{lower_ad:.2f}, {upper_ad:.2f}]')\n",
    "print(f'Доверительный интервал для psa: [{lower_psa:.2f}, {upper_psa:.2f}]')\n"
   ],
   "id": "c86f5362dee4264d",
   "outputs": [
    {
     "name": "stdout",
     "output_type": "stream",
     "text": [
      "Доверительный интервал для ad: [24.71, 24.94]\n",
      "Доверительный интервал для psa: [24.21, 25.31]\n"
     ]
    }
   ],
   "execution_count": 17
  },
  {
   "metadata": {},
   "cell_type": "markdown",
   "source": "Вывод: доверительные интервалы для среднего количества увиденной рекламы в группах ad и psa пересекаются, следовательно, среднее количество увиденной рекламы в группах совпадает",
   "id": "5facb7da1bb5c59b"
  },
  {
   "metadata": {},
   "cell_type": "markdown",
   "source": "Общий вывод: доверительные интервалы подтверждают результаты статистических тестов. Конверсия в группе ad выше, чем в группе psa. Среднее количество увиденной рекламы в группах ad и psa совпадает. Можно сделать вывод, что группа ad эффективнее группы psa ",
   "id": "5b6195108a19c93"
  }
 ],
 "metadata": {
  "kernelspec": {
   "display_name": "Python 3",
   "language": "python",
   "name": "python3"
  },
  "language_info": {
   "codemirror_mode": {
    "name": "ipython",
    "version": 2
   },
   "file_extension": ".py",
   "mimetype": "text/x-python",
   "name": "python",
   "nbconvert_exporter": "python",
   "pygments_lexer": "ipython2",
   "version": "2.7.6"
  }
 },
 "nbformat": 4,
 "nbformat_minor": 5
}
